{
 "cells": [
  {
   "cell_type": "markdown",
   "metadata": {},
   "source": [
    "# Finding hyperparametres"
   ]
  },
  {
   "cell_type": "markdown",
   "metadata": {},
   "source": [
    "### load data"
   ]
  },
  {
   "cell_type": "code",
   "execution_count": 1,
   "metadata": {},
   "outputs": [],
   "source": [
    "# Useful starting lines\n",
    "%matplotlib inline\n",
    "import numpy as np\n",
    "import matplotlib.pyplot as plt\n",
    "%load_ext autoreload\n",
    "%autoreload 2"
   ]
  },
  {
   "cell_type": "code",
   "execution_count": 2,
   "metadata": {},
   "outputs": [
    {
     "data": {
      "text/plain": [
       "(250000,)"
      ]
     },
     "execution_count": 2,
     "metadata": {},
     "output_type": "execute_result"
    }
   ],
   "source": [
    "from proj1_helpers import *\n",
    "DATA_TRAIN_PATH = 'train.csv' # TODO: download train data and supply path here \n",
    "y, tX, ids = load_csv_data(DATA_TRAIN_PATH)\n",
    "y.shape"
   ]
  },
  {
   "cell_type": "markdown",
   "metadata": {},
   "source": [
    "## 1) Preprocessing step\n"
   ]
  },
  {
   "cell_type": "code",
   "execution_count": 3,
   "metadata": {},
   "outputs": [],
   "source": [
    "from data_preprocessing import *\n",
    "y_tr, x_tr, y_te, x_te = split_data(tX, y, 0.8, seed=20)"
   ]
  },
  {
   "cell_type": "code",
   "execution_count": 4,
   "metadata": {},
   "outputs": [],
   "source": [
    "undefined_features = [[4, 5, 6, 12, 22, 23, 24, 25, 26,\n",
    "                       27, 28, 29], [4, 5, 6, 12, 22, 26, 27, 28], [22], [22]]\n",
    "PRI_jet_num = 22"
   ]
  },
  {
   "cell_type": "code",
   "execution_count": 5,
   "metadata": {},
   "outputs": [
    {
     "name": "stdout",
     "output_type": "stream",
     "text": [
      "jet tot size: 200000  y tot size:  200000\n"
     ]
    }
   ],
   "source": [
    "jet_train, y_jet_train, index = get_jets(x_tr, y_tr, PRI_jet_num, undefined_features, list_ = True)"
   ]
  },
  {
   "cell_type": "code",
   "execution_count": 6,
   "metadata": {
    "scrolled": true
   },
   "outputs": [
    {
     "name": "stdout",
     "output_type": "stream",
     "text": [
      "jet tot size: 50000  y tot size:  50000\n"
     ]
    }
   ],
   "source": [
    "jet_test, y_jet_test, index_te = get_jets(x_te, y_te, PRI_jet_num, undefined_features, list_ = True)"
   ]
  },
  {
   "cell_type": "markdown",
   "metadata": {},
   "source": [
    "## Standardization / Normalization / removal of correlated features"
   ]
  },
  {
   "cell_type": "markdown",
   "metadata": {},
   "source": [
    "aller voir dans data_preprocessing\n",
    "la function **preprocessing_data peut**:\n",
    "    - normaliser (mettre en 0 et 1 -> ce qui évite la divergence de logistic regression),\n",
    "    - standardiser (zero mean zero variance)\n",
    "    - enlever les colonnes corrélées\n",
    "    -> le faire sur chaque jet et utiliser jet_str_tr and jet_str_te a la place"
   ]
  },
  {
   "cell_type": "code",
   "execution_count": 7,
   "metadata": {},
   "outputs": [],
   "source": [
    "from data_preprocessing import preprocessing_data"
   ]
  },
  {
   "cell_type": "code",
   "execution_count": 8,
   "metadata": {
    "scrolled": true
   },
   "outputs": [],
   "source": [
    "jet_std_tr = []\n",
    "jet_std_te = []\n",
    "for jet in jet_train:\n",
    "    jet_std_tr.append(preprocessing_data(jet, True, False, False))\n",
    "    \n",
    "for jet in jet_test:\n",
    "    jet_std_te.append(preprocessing_data(jet, True, False, False))\n",
    "    "
   ]
  },
  {
   "cell_type": "markdown",
   "metadata": {},
   "source": [
    "## Ordre des méthodes"
   ]
  },
  {
   "cell_type": "markdown",
   "metadata": {},
   "source": [
    "- 1: least squares\n",
    "- 2: least squqres GD\n",
    "- 3: LS SGD\n",
    "- 4: ridge\n",
    "- 5: log\n",
    "- 6: regularized log"
   ]
  },
  {
   "cell_type": "markdown",
   "metadata": {},
   "source": [
    "## 2) Test logistic regression reussi"
   ]
  },
  {
   "cell_type": "markdown",
   "metadata": {},
   "source": [
    "A tester sur différent degrés et gammas, avec différents types de data preprocessing\n",
    "degree -> select best degree\n",
    "w_opt -> utiliser best_w"
   ]
  },
  {
   "cell_type": "markdown",
   "metadata": {},
   "source": [
    "**Test juste pour voir si ça marche**"
   ]
  },
  {
   "cell_type": "code",
   "execution_count": 23,
   "metadata": {},
   "outputs": [],
   "source": [
    "from implementations import logistic_regression\n",
    "from utils import build_poly\n",
    "\n",
    "loss_tot_te = []\n",
    "w_list = []\n",
    "\n",
    "for (jet, y_jet) in zip(jet_std_tr, y_jet_train):\n",
    "    jet_augm = build_poly(jet, 5)\n",
    "    w_init = np.zeros((jet_augm.shape[1],))\n",
    "    w, loss = logistic_regression(y_jet, jet_augm, w_init, 1000, 0.001)\n",
    "    w_list.append(w)\n",
    "    loss_tot_te.append(loss)\n",
    "   \n",
    "    "
   ]
  },
  {
   "cell_type": "markdown",
   "metadata": {},
   "source": [
    "**Trouver l'hyperparamètre optimal**"
   ]
  },
  {
   "cell_type": "code",
   "execution_count": 13,
   "metadata": {},
   "outputs": [
    {
     "name": "stdout",
     "output_type": "stream",
     "text": [
      "Best degree =5, loss for k-folds cross validation=0.6931471805599383, best gamma=1e-20\n",
      "Best degree =5, loss for k-folds cross validation=0.6931471805599427, best gamma=1e-20\n",
      "Best degree =5, loss for k-folds cross validation=0.6931471805599461, best gamma=1e-20\n",
      "Best degree =5, loss for k-folds cross validation=0.6931471805599438, best gamma=1e-20\n"
     ]
    }
   ],
   "source": [
    "from cross_validation import select_best_gamma\n",
    "from run import best_w\n",
    "from utils import build_poly\n",
    "\n",
    "best_degs = []\n",
    "best_gammas = []\n",
    "rmse_tot_te = []\n",
    "w_list = []\n",
    "\n",
    "for (jet, y_jet) in zip(jet_std_tr, y_jet_train):\n",
    "    best_degree, rmse_te, best_gamma, rmse_plot = select_best_gamma(y_jet, jet, 5, k_fold = 5, seed = 200, degrees = np.arange(5,10,1), gammas = np.logspace(-20,-5,1) )\n",
    "    best_degs.append(best_degree)\n",
    "    best_gammas.append(best_gamma)\n",
    "    rmse_tot_te.append(rmse_te)\n",
    "    #rmse_plot_list.append(rmse_plot)\n",
    "    \n",
    "    x_augm = build_poly(jet, best_degree)\n",
    "    w = best_w(y_jet , jet , 5, 0 , best_degree, best_gamma)\n",
    "    w_list.append(w)"
   ]
  },
  {
   "cell_type": "markdown",
   "metadata": {},
   "source": [
    "**Compute predictions**"
   ]
  },
  {
   "cell_type": "code",
   "execution_count": 18,
   "metadata": {},
   "outputs": [],
   "source": [
    "y_pred_list = []\n",
    "for(jet, w, deg) in zip(jet_std_te, w_list, best_degs):\n",
    "    x_augm_te = build_poly(jet, deg)\n",
    "    y_pred = x_augm_te.dot(w)\n",
    "    y_pred_list.append(y_pred)"
   ]
  },
  {
   "cell_type": "markdown",
   "metadata": {},
   "source": [
    "**Compute accuracy**"
   ]
  },
  {
   "cell_type": "code",
   "execution_count": 27,
   "metadata": {},
   "outputs": [
    {
     "name": "stdout",
     "output_type": "stream",
     "text": [
      "(50000,)\n",
      "0.65798\n"
     ]
    }
   ],
   "source": [
    "from utils import accuracy_2\n",
    "from proj1_helpers import combine_jets\n",
    "y_predict = combine_jets(y_pred_list, index_te)\n",
    "print(y_predict.shape)\n",
    "print(accuracy_2(y_te, y_predict))"
   ]
  },
  {
   "cell_type": "markdown",
   "metadata": {},
   "source": [
    "## 3) Test penalized logistic regression"
   ]
  },
  {
   "cell_type": "code",
   "execution_count": null,
   "metadata": {
    "scrolled": true
   },
   "outputs": [],
   "source": [
    "from implementations import reg_logistic_regression\n",
    "from utils import build_poly, sigmoid\n",
    "\n",
    "lambda_ = 10\n",
    "gamma = 0.0001\n",
    "max_iters = 600\n",
    "loss_tot_te = []\n",
    "w_list = []\n",
    "\n",
    "for (jet, y) in zip(jet_normalized_tr, y_jet_train):\n",
    "    jetaugm = build_poly(jet, 1)\n",
    "    w_init = np.zeros(jetaugm.shape[1],)\n",
    "    w, loss = reg_logistic_regression(y, jetaugm, w_init, gamma, max_iters, lambda_)\n",
    "    loss_tot_te.append(loss)\n",
    "    w_list.append(w)\n"
   ]
  },
  {
   "cell_type": "code",
   "execution_count": null,
   "metadata": {},
   "outputs": [],
   "source": [
    "y_pred_list = []\n",
    "for(jet, w) in zip(jet_normalized_te, w_list):\n",
    "    x_augm_te = build_poly(jet, 1)\n",
    "    y_pred = x_augm_te.dot(w)\n",
    "    y_pred_list.append(y_pred)"
   ]
  },
  {
   "cell_type": "code",
   "execution_count": null,
   "metadata": {},
   "outputs": [],
   "source": [
    "from utils import accuracy_2\n",
    "y_predict = combine_jets(y_pred_list, index_te)\n",
    "print(y_predict.shape)\n",
    "print(accuracy_2(y_te, y_predict))"
   ]
  },
  {
   "cell_type": "markdown",
   "metadata": {},
   "source": [
    "## 4) Ridge regression\n",
    "\n",
    "- optimize over lambda for degree 1\n",
    "- select best_degree over all lambdas"
   ]
  },
  {
   "cell_type": "markdown",
   "metadata": {},
   "source": [
    "Grid search: Optimize for degree** raw data, degrees = np.arange(1,5,1), lambdas = np.logspace(-10,0,1) -> accuracy = 0.79264. Le lancer avec ces paramètres"
   ]
  },
  {
   "cell_type": "code",
   "execution_count": null,
   "metadata": {},
   "outputs": [],
   "source": [
    "from cross_validation_R_LSGD import select_best_degree_ridge\n",
    "from run import best_w\n",
    "from utils import build_poly\n",
    "\n",
    "best_degs = []\n",
    "best_lbds = []\n",
    "rmse_tot_te = []\n",
    "w_list = []\n",
    "y_pred_list = []\n",
    "rmse_plot_list=[]\n",
    "\n",
    "for (jet, y_jet) in zip(jet_std_tr, y_jet_train):\n",
    "    best_degree, rmse_te, best_lambda, rmse_plot = select_best_degree_ridge(y_jet, jet, seed = 200, k_fold = 10)\n",
    "    best_degs.append(best_degree)\n",
    "    best_lbds.append(best_lambda)\n",
    "    rmse_tot_te.append(rmse_te)\n",
    "    rmse_plot_list.append(rmse_plot)\n",
    "    \n",
    "    x_augm = build_poly(jet, best_degree)\n",
    "    w = best_w(y_jet , jet , 4, best_lambda , best_degree)\n",
    "    w_list.append(w)"
   ]
  },
  {
   "cell_type": "code",
   "execution_count": null,
   "metadata": {},
   "outputs": [],
   "source": [
    "y_pred_list = []\n",
    "for(jet, w, deg) in zip(jet_std_te, w_list, best_degs):\n",
    "    x_augm_te = build_poly(jet, deg)\n",
    "    y_pred = x_augm_te.dot(w)\n",
    "    y_pred_list.append(y_pred)"
   ]
  },
  {
   "cell_type": "code",
   "execution_count": null,
   "metadata": {},
   "outputs": [],
   "source": [
    "from utils import accuracy_2\n",
    "from proj1_helpers import combine_jets\n",
    "y_predict = combine_jets(y_pred_list, index_te)\n",
    "print(accuracy_2(y_te, y_predict))"
   ]
  }
 ],
 "metadata": {
  "kernelspec": {
   "display_name": "Python 3",
   "language": "python",
   "name": "python3"
  },
  "language_info": {
   "codemirror_mode": {
    "name": "ipython",
    "version": 3
   },
   "file_extension": ".py",
   "mimetype": "text/x-python",
   "name": "python",
   "nbconvert_exporter": "python",
   "pygments_lexer": "ipython3",
   "version": "3.7.3"
  }
 },
 "nbformat": 4,
 "nbformat_minor": 2
}
