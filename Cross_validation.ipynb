{
 "cells": [
  {
   "cell_type": "markdown",
   "metadata": {},
   "source": [
    "# Hyper parameter tuning"
   ]
  },
  {
   "cell_type": "markdown",
   "metadata": {},
   "source": [
    "## Load data"
   ]
  },
  {
   "cell_type": "code",
   "execution_count": 3,
   "metadata": {},
   "outputs": [],
   "source": [
    "# Useful starting lines\n",
    "%matplotlib inline\n",
    "import numpy as np\n",
    "import matplotlib.pyplot as plt\n",
    "%load_ext autoreload\n",
    "%autoreload 2"
   ]
  },
  {
   "cell_type": "code",
   "execution_count": 7,
   "metadata": {},
   "outputs": [],
   "source": [
    "from proj1_helpers import *\n",
    "DATA_TRAIN_PATH = 'data/train.csv'\n",
    "y, tX, ids = load_csv_data(DATA_TRAIN_PATH)"
   ]
  },
  {
   "cell_type": "markdown",
   "metadata": {},
   "source": [
    "## Data preprocessing"
   ]
  },
  {
   "cell_type": "markdown",
   "metadata": {},
   "source": [
    "#### Split data into train and test set"
   ]
  },
  {
   "cell_type": "code",
   "execution_count": 8,
   "metadata": {},
   "outputs": [],
   "source": [
    "from data_preprocessing import *\n",
    "y_tr, x_tr, y_te, x_te = split_data(tX, y, 0.8, seed=20)\n",
    "\n",
    "undefined_features = [[4, 5, 6, 12, 22, 23, 24, 25, 26,\n",
    "                       27, 28, 29], [4, 5, 6, 12, 22, 26, 27, 28], [22], [22]]\n",
    "PRI_jet_num = 22"
   ]
  },
  {
   "cell_type": "markdown",
   "metadata": {},
   "source": [
    "#### Split train and test set into jets according to above undefined features"
   ]
  },
  {
   "cell_type": "code",
   "execution_count": 9,
   "metadata": {},
   "outputs": [],
   "source": [
    "jet_train, y_jet_train, index = get_jets(x_tr, y_tr, PRI_jet_num, undefined_features, list_ = True)"
   ]
  },
  {
   "cell_type": "code",
   "execution_count": 10,
   "metadata": {},
   "outputs": [],
   "source": [
    "jet_test, y_jet_test, index_te = get_jets(x_te, y_te, PRI_jet_num, undefined_features, list_ = True)"
   ]
  },
  {
   "cell_type": "markdown",
   "metadata": {},
   "source": [
    "#### Data processing : standardization, normalisation, removal of correlated features"
   ]
  },
  {
   "cell_type": "markdown",
   "metadata": {},
   "source": [
    "See data_preprocessing.py for further documentation"
   ]
  },
  {
   "cell_type": "code",
   "execution_count": 13,
   "metadata": {},
   "outputs": [],
   "source": [
    "from data_preprocessing import preprocessing_data\n",
    "jet_pr_tr = []\n",
    "jet_pr_te = []\n",
    "for jet in jet_train:\n",
    "    jet_pr_tr.append(preprocessing_data(jet, normalization = False, standardization = False, correl = False))\n",
    "    \n",
    "for jet in jet_test:\n",
    "    jet_pr_te.append(preprocessing_data(jet, normalization = False, standardization = False, correl = False))\n"
   ]
  },
  {
   "cell_type": "markdown",
   "metadata": {},
   "source": [
    "## Hyperparameter tuning without regularisation"
   ]
  },
  {
   "cell_type": "markdown",
   "metadata": {},
   "source": [
    "We can find optimal degree across lambdas or optimal lambda across degrees. We've choosen to find optimal degree across lambda.\n"
   ]
  },
  {
   "cell_type": "markdown",
   "metadata": {},
   "source": [
    "**Methods :**\n",
    "- **1** : Least squares\n",
    "- **2** : Least squares gradient descent (least squares GD)\n",
    "- **3** : Least squares stochastic gradient descent (least squares SGD)\n",
    "- **5** : Logistic regression"
   ]
  },
  {
   "cell_type": "markdown",
   "metadata": {},
   "source": [
    "**Screening range and input parameters** :\n",
    "- *Least squares (normal equations):* degrees 1 to 20, standardized data\n",
    "  - accuracy = 0.77858\n",
    "  - best degrees for each jet: [4,4,9,9]\n",
    "- *Least squares gradient descent:* optimal degree was 1, with standardized data, 15000 iterations, gamma = 0.000001. No need for optimisation\n",
    "  - accuracy = 0.74346\n",
    "  - best degree for all jets : 1\n",
    "- *Least squares stochastic gradient descent:* standardized data, degrees 1 to 3  gamma = 0.000000001\n",
    "  - accuracy = 0.71126\n",
    "  - best parameters for all jets : \n",
    "- *Logistic regression:* normalized (only) data, degrees = np.arange(5,10,1), lambdas = np.logspace(-20,-15,1), gamma = 0.000001\n",
    "  - accuracy on test set = 0.70682\n",
    "  - best parameters for all jets : best degree 9 with lambda 1e-20 "
   ]
  },
  {
   "cell_type": "markdown",
   "metadata": {},
   "source": [
    "**Tuning and predictions**"
   ]
  },
  {
   "cell_type": "code",
   "execution_count": 15,
   "metadata": {},
   "outputs": [
    {
     "name": "stdout",
     "output_type": "stream",
     "text": [
      "Jet n° 0\n",
      "For method n°:1\n",
      "Best degree =1, loss for k-folds cross validation=0.7229373087279484, best lambda=0\n",
      "Jet n° 1\n",
      "For method n°:1\n",
      "Best degree =3, loss for k-folds cross validation=0.8123825812887364, best lambda=0\n",
      "Jet n° 2\n",
      "For method n°:1\n",
      "Best degree =4, loss for k-folds cross validation=0.7800326056094004, best lambda=0\n",
      "Jet n° 3\n",
      "For method n°:1\n",
      "Best degree =4, loss for k-folds cross validation=0.780800002924211, best lambda=0\n"
     ]
    }
   ],
   "source": [
    "from cross_validation import choose_your_methods\n",
    "from run import select_best_parameter, best_w\n",
    "from utils import *\n",
    "\n",
    "#remember best degrees for each jet\n",
    "best_degs = []\n",
    "\n",
    "#remember weight and predictions for each jet\n",
    "w_list = []\n",
    "y_pred_list = []\n",
    "\n",
    "for (jet, y_jet, index) in zip(jet_pr_tr, y_jet_train, np.arange(4)):\n",
    "    print(\"Jet n°\",index)\n",
    "    #find best parameter\n",
    "    best_degree, acc_te, _, _ = select_best_parameter(y_jet, jet, 3, 'degree', by_accuracy = True, seed = 1 , k_fold = 5, degrees = np.arange(1,3,1), lambdas = np.array([0]),gamma = 0.000000001)\n",
    "    best_degs.append(best_degree)\n",
    "    \n",
    "    #find optimal weight\n",
    "    x_augm = build_poly(jet, best_degree)\n",
    "    w = best_w(y_jet , jet , 3, 0 , best_degree)\n",
    "    w_list.append(w)\n",
    "    \n",
    "    #compute prediction\n",
    "for(jet, w, deg) in zip(jet_pr_te, w_list, best_degs):\n",
    "    x_augm_te = build_poly(jet, deg)\n",
    "    y_pred = x_augm_te.dot(w)\n",
    "    y_pred_list.append(y_pred)\n",
    "    "
   ]
  },
  {
   "cell_type": "markdown",
   "metadata": {},
   "source": [
    "**Compute accuracy**"
   ]
  },
  {
   "cell_type": "code",
   "execution_count": 16,
   "metadata": {},
   "outputs": [
    {
     "name": "stdout",
     "output_type": "stream",
     "text": [
      "(50000,)\n",
      "accuracy on test set:  0.79948\n"
     ]
    }
   ],
   "source": [
    "from utils import accuracy\n",
    "y_predict = combine_jets(y_pred_list, index_te)\n",
    "print(\"accuracy on test set: \", accuracy(y_te, y_predict))"
   ]
  },
  {
   "cell_type": "markdown",
   "metadata": {},
   "source": [
    "## Hyperparameter tuning with regularisation"
   ]
  },
  {
   "cell_type": "markdown",
   "metadata": {},
   "source": [
    "**Methods, screening range and parameters :**\n",
    "- **4**: *Ridge regression:* standardized (only) data, degrees = np.array([1,5,6,7,8,10,12]), lambdas = [0.009999, 0.1, 0.001]\n",
    "  - accuracy on test set = 0.82446, optimal degrees = [10,12,] with lambdas = 0.009999\n",
    "- **6**: *Regularized logistic regression:* normalized (only) data, degrees = 5 to 9, lambdas = np.logspace(-20,-15,1), gamma = 0.000001\n",
    "  - accuracy on test set = 0.69024"
   ]
  },
  {
   "cell_type": "code",
   "execution_count": 5,
   "metadata": {},
   "outputs": [
    {
     "ename": "NameError",
     "evalue": "name 'jet_process_tr' is not defined",
     "output_type": "error",
     "traceback": [
      "\u001b[1;31m---------------------------------------------------------------------------\u001b[0m",
      "\u001b[1;31mNameError\u001b[0m                                 Traceback (most recent call last)",
      "\u001b[1;32m<ipython-input-5-bfeaa298c182>\u001b[0m in \u001b[0;36m<module>\u001b[1;34m\u001b[0m\n\u001b[0;32m      9\u001b[0m \u001b[1;33m\u001b[0m\u001b[0m\n\u001b[0;32m     10\u001b[0m \u001b[1;33m\u001b[0m\u001b[0m\n\u001b[1;32m---> 11\u001b[1;33m \u001b[1;32mfor\u001b[0m \u001b[1;33m(\u001b[0m\u001b[0mjet\u001b[0m\u001b[1;33m,\u001b[0m \u001b[0my_jet\u001b[0m\u001b[1;33m,\u001b[0m \u001b[0mindex\u001b[0m\u001b[1;33m)\u001b[0m \u001b[1;32min\u001b[0m \u001b[0mzip\u001b[0m\u001b[1;33m(\u001b[0m\u001b[0mjet_process_tr\u001b[0m\u001b[1;33m,\u001b[0m \u001b[0my_jet_train\u001b[0m\u001b[1;33m,\u001b[0m \u001b[0mnp\u001b[0m\u001b[1;33m.\u001b[0m\u001b[0marange\u001b[0m\u001b[1;33m(\u001b[0m\u001b[1;36m4\u001b[0m\u001b[1;33m)\u001b[0m\u001b[1;33m)\u001b[0m\u001b[1;33m:\u001b[0m\u001b[1;33m\u001b[0m\u001b[1;33m\u001b[0m\u001b[0m\n\u001b[0m\u001b[0;32m     12\u001b[0m     \u001b[0mprint\u001b[0m\u001b[1;33m(\u001b[0m\u001b[1;34m\"Jet n°:\"\u001b[0m\u001b[1;33m,\u001b[0m \u001b[0mindex\u001b[0m\u001b[1;33m)\u001b[0m\u001b[1;33m\u001b[0m\u001b[1;33m\u001b[0m\u001b[0m\n\u001b[0;32m     13\u001b[0m     \u001b[0mbest_degree\u001b[0m\u001b[1;33m,\u001b[0m \u001b[0mrmse_te\u001b[0m\u001b[1;33m,\u001b[0m \u001b[0mbest_lambda\u001b[0m\u001b[1;33m,\u001b[0m \u001b[0maccuracy_deg\u001b[0m \u001b[1;33m=\u001b[0m \u001b[0mselect_best_parameter\u001b[0m\u001b[1;33m(\u001b[0m\u001b[0my_jet\u001b[0m\u001b[1;33m,\u001b[0m \u001b[0mjet\u001b[0m\u001b[1;33m,\u001b[0m \u001b[1;36m4\u001b[0m \u001b[1;33m,\u001b[0m \u001b[1;34m'degree'\u001b[0m\u001b[1;33m,\u001b[0m \u001b[0mseed\u001b[0m \u001b[1;33m=\u001b[0m \u001b[1;36m200\u001b[0m\u001b[1;33m,\u001b[0m \u001b[0mk_fold\u001b[0m \u001b[1;33m=\u001b[0m \u001b[1;36m5\u001b[0m\u001b[1;33m,\u001b[0m \u001b[0mdegrees\u001b[0m \u001b[1;33m=\u001b[0m \u001b[0mnp\u001b[0m\u001b[1;33m.\u001b[0m\u001b[0marange\u001b[0m\u001b[1;33m(\u001b[0m\u001b[1;36m2\u001b[0m\u001b[1;33m,\u001b[0m\u001b[1;36m7\u001b[0m\u001b[1;33m,\u001b[0m\u001b[1;36m1\u001b[0m\u001b[1;33m)\u001b[0m\u001b[1;33m,\u001b[0m \u001b[0mlambdas\u001b[0m \u001b[1;33m=\u001b[0m \u001b[1;33m[\u001b[0m\u001b[1;36m0.0099\u001b[0m\u001b[1;33m,\u001b[0m \u001b[1;36m0.00001\u001b[0m\u001b[1;33m,\u001b[0m \u001b[1;36m0.01\u001b[0m\u001b[1;33m]\u001b[0m\u001b[1;33m)\u001b[0m\u001b[1;33m\u001b[0m\u001b[1;33m\u001b[0m\u001b[0m\n",
      "\u001b[1;31mNameError\u001b[0m: name 'jet_process_tr' is not defined"
     ]
    }
   ],
   "source": [
    "from run import select_best_parameter, best_w\n",
    "from utils import build_poly\n",
    "\n",
    "\n",
    "best_degs = []\n",
    "best_lbds = []\n",
    "w_list = []\n",
    "accuracy_jet = []\n",
    "\n",
    "\n",
    "for (jet, y_jet, index) in zip(jet_pr_tr, y_jet_train, np.arange(4)):\n",
    "    print(\"Jet n°:\", index)\n",
    "    best_degree, rmse_te, best_lambda, accuracy_deg = select_best_parameter(y_jet, jet, 4 , 'degree', seed = 200, k_fold = 5, degrees = np.arange(2,7,1), lambdas = [0.0099, 0.00001, 0.01])\n",
    "    best_degs.append(best_degree)\n",
    "    best_lbds.append(best_lambda)\n",
    "    \n",
    "    accuracy_jet.append(accuracy_deg)\n",
    "    \n",
    "    x_augm = build_poly(jet, best_degree)\n",
    "    w = best_w(y_jet , jet , 4, best_lambda , best_degree)\n",
    "    w_list.append(w)"
   ]
  },
  {
   "cell_type": "code",
   "execution_count": null,
   "metadata": {},
   "outputs": [],
   "source": [
    "y_pred_list = []\n",
    "for(jet, w, deg) in zip(jet_pr_te, w_list, best_degs):\n",
    "    x_augm_t = build_poly(jet, deg)\n",
    "    y_pred_ = x_augm_t.dot(w)\n",
    "    y_pred_list.append(y_pred_)"
   ]
  },
  {
   "cell_type": "code",
   "execution_count": null,
   "metadata": {},
   "outputs": [],
   "source": [
    "y_predict = combine_jets(y_pred_list, index_te)\n",
    "print(\"Accuracy on test set:\", accuracy(y_te, y_predict))"
   ]
  },
  {
   "cell_type": "markdown",
   "metadata": {},
   "source": [
    "## Cross validation plot example"
   ]
  },
  {
   "cell_type": "markdown",
   "metadata": {},
   "source": [
    "#### Ridge, jet 1 (processed)"
   ]
  },
  {
   "cell_type": "code",
   "execution_count": 2,
   "metadata": {},
   "outputs": [
    {
     "ename": "NameError",
     "evalue": "name 'y_jet_train' is not defined",
     "output_type": "error",
     "traceback": [
      "\u001b[0;31m---------------------------------------------------------------------------\u001b[0m",
      "\u001b[0;31mNameError\u001b[0m                                 Traceback (most recent call last)",
      "\u001b[0;32m<ipython-input-2-84ebc8af049b>\u001b[0m in \u001b[0;36m<module>\u001b[0;34m\u001b[0m\n\u001b[1;32m      1\u001b[0m \u001b[0;32mfrom\u001b[0m \u001b[0mcross_validation\u001b[0m \u001b[0;32mimport\u001b[0m \u001b[0mselect_best_degree\u001b[0m\u001b[0;34m\u001b[0m\u001b[0;34m\u001b[0m\u001b[0m\n\u001b[0;32m----> 2\u001b[0;31m \u001b[0mbest_degree\u001b[0m\u001b[0;34m,\u001b[0m \u001b[0mrmse_te\u001b[0m\u001b[0;34m,\u001b[0m \u001b[0mbest_lambda\u001b[0m\u001b[0;34m,\u001b[0m \u001b[0maccuracy_deg\u001b[0m \u001b[0;34m=\u001b[0m \u001b[0mselect_best_degree\u001b[0m\u001b[0;34m(\u001b[0m\u001b[0my_jet_train\u001b[0m\u001b[0;34m[\u001b[0m\u001b[0;36m1\u001b[0m\u001b[0;34m]\u001b[0m\u001b[0;34m,\u001b[0m \u001b[0mjet_pr_tr\u001b[0m\u001b[0;34m[\u001b[0m\u001b[0;36m1\u001b[0m\u001b[0;34m]\u001b[0m\u001b[0;34m,\u001b[0m \u001b[0;36m4\u001b[0m\u001b[0;34m,\u001b[0m \u001b[0;32mFalse\u001b[0m\u001b[0;34m,\u001b[0m \u001b[0;36m200\u001b[0m\u001b[0;34m,\u001b[0m \u001b[0;36m5\u001b[0m\u001b[0;34m,\u001b[0m \u001b[0mnp\u001b[0m\u001b[0;34m.\u001b[0m\u001b[0marange\u001b[0m\u001b[0;34m(\u001b[0m\u001b[0;36m1\u001b[0m\u001b[0;34m,\u001b[0m\u001b[0;36m7\u001b[0m\u001b[0;34m,\u001b[0m\u001b[0;36m1\u001b[0m\u001b[0;34m)\u001b[0m\u001b[0;34m,\u001b[0m \u001b[0mnp\u001b[0m\u001b[0;34m.\u001b[0m\u001b[0mlogspace\u001b[0m\u001b[0;34m(\u001b[0m\u001b[0;34m-\u001b[0m\u001b[0;36m7\u001b[0m\u001b[0;34m,\u001b[0m\u001b[0;34m-\u001b[0m\u001b[0;36m2\u001b[0m\u001b[0;34m,\u001b[0m\u001b[0;36m3\u001b[0m\u001b[0;34m)\u001b[0m\u001b[0;34m)\u001b[0m\u001b[0;34m\u001b[0m\u001b[0;34m\u001b[0m\u001b[0m\n\u001b[0m",
      "\u001b[0;31mNameError\u001b[0m: name 'y_jet_train' is not defined"
     ]
    }
   ],
   "source": [
    "from cross_validation import select_best_degree\n",
    "best_degree, rmse_te, best_lambda, accuracy_deg = select_best_degree(y_jet_train[1], jet_pr_tr[1], 4, False, 200, 5, np.arange(1,7,1), np.logspace(-7,-2,3))  "
   ]
  },
  {
   "cell_type": "code",
   "execution_count": null,
   "metadata": {},
   "outputs": [],
   "source": []
  }
 ],
 "metadata": {
  "kernelspec": {
   "display_name": "Python 3",
   "language": "python",
   "name": "python3"
  },
  "language_info": {
   "codemirror_mode": {
    "name": "ipython",
    "version": 3
   },
   "file_extension": ".py",
   "mimetype": "text/x-python",
   "name": "python",
   "nbconvert_exporter": "python",
   "pygments_lexer": "ipython3",
   "version": "3.6.9"
  }
 },
 "nbformat": 4,
 "nbformat_minor": 4
}
